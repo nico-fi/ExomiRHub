{
 "cells": [
  {
   "cell_type": "markdown",
   "metadata": {},
   "source": [
    "# Objectives\n",
    "\n",
    "- Identify disease biomarkers.\n",
    "\n",
    "- Build an inductive model."
   ]
  },
  {
   "cell_type": "markdown",
   "metadata": {},
   "source": [
    "# Dataset Selection\n",
    "\n",
    "- Datasets: 191\n",
    "\n",
    "- Samples: 29.198\n",
    "\n",
    "### OpenRefine\n",
    "\n",
    "- Retrieve _Technology_ data from Gene Expression Omnibus (https://0-www-ncbi-nlm-nih-gov.brum.beds.ac.uk/geo/browse/?view=platforms):\n",
    "\n",
    "  - high-throughput sequencing (64 datasets: 1473 samples)\n",
    "\n",
    "  - spotted oligonucleotide (35 datasets: 24.119 samples)\n",
    "\n",
    "  - in situ oligonucleotide (61 datasets: 2987 samples)\n",
    "\n",
    "  - other (3 datasets: 75 samples)\n",
    "\n",
    "  - RT-PCR (28 datasets: 544 samples)\n",
    "\n",
    "- Delete datasets:\n",
    "\n",
    "  - _Technology_ = other || RT-PCR (https://biosistemika.com/blog/qpcr-microarrays-rna-sequencing-choose-one/)"
   ]
  },
  {
   "cell_type": "markdown",
   "metadata": {},
   "source": [
    "# Metadata Preprocessing\n",
    "\n",
    "- Features: 267\n",
    "\n",
    "### OpenRefine\n",
    "\n",
    "- Add dataset-level features.\n",
    "\n",
    "- Delete samples:\n",
    "\n",
    "   - _organism_ ≠ Homo sapiens (22 samples)\n",
    "\n",
    "   - _channel_count_ = 2 (189 samples)\n",
    "\n",
    "- Split and transpose _key:value_ columns."
   ]
  },
  {
   "cell_type": "code",
   "execution_count": 14,
   "metadata": {},
   "outputs": [],
   "source": [
    "import pandas as pd\n",
    "\n",
    "\n",
    "def keep_first_occurrence(row):\n",
    "    new_row = []\n",
    "    for value in row:\n",
    "        new_row.append(value if value not in new_row else None)\n",
    "    return pd.Series(new_row, index=row.index)\n",
    "\n",
    "\n",
    "metadata = pd.read_csv('data/PD.csv', dtype=str)\n",
    "\n",
    "# Keep only the first occurrence of a value for each row\n",
    "metadata = metadata.apply(keep_first_occurrence, axis=1)\n",
    "\n",
    "# Remove columns with the same value in all the rows\n",
    "metadata.drop(metadata.columns[metadata.apply(pd.Series.nunique) == 1], axis=1, inplace=True)\n",
    "\n",
    "# Remove empty columns\n",
    "metadata.dropna(axis=1, how='all', inplace=True)\n",
    "\n",
    "# Save metadata\n",
    "metadata.to_csv('data/PD.csv', index=False)"
   ]
  },
  {
   "cell_type": "markdown",
   "metadata": {},
   "source": [
    "### OpenRefine\n",
    "\n",
    "- Delete irrelevant or redundant features.\n",
    "\n",
    "- Delete features where missing values ⪆ 98%.\n",
    "\n",
    "- Merge equivalent features associated to different datasets.\n",
    "\n",
    "- Rename features in a consistent way.\n",
    "\n",
    "- Uniform _age_ and _sex_ values.\n",
    "\n",
    "- Update dataset-level features using sample-level data (*sample_type*, *disease*)."
   ]
  },
  {
   "cell_type": "markdown",
   "metadata": {},
   "source": [
    "# Values Preprocessing "
   ]
  },
  {
   "cell_type": "code",
   "execution_count": 42,
   "metadata": {},
   "outputs": [],
   "source": [
    "import pandas as pd\n",
    "import glob\n",
    "\n",
    "\n",
    "# Read expression value tables, deleting whitespaces and replacing ',' or '+' with '/' from miRNA names\n",
    "df_list = [pd.read_csv(f, converters={0: lambda x: x.replace(' ', '').replace(',', '/').replace('+', '/')}) for f in glob.glob('data/raw/exp/*.csv')]\n",
    "\n",
    "# Transpose and concatenate data into a single dataframe. Rows indexed by the same miRNA are merged\n",
    "values = pd.concat(df.set_index(df.columns[0]).groupby(df.columns[0]).aggregate('max').T for df in df_list)\n",
    "\n",
    "# Remove samples whose id is not included in metadata file\n",
    "metadata = pd.read_csv('data/PD.csv', index_col='sample_id')\n",
    "values = values[values.index.isin(metadata.index)]\n",
    "\n",
    "# Remove empty columns\n",
    "values.dropna(axis=1, how='all', inplace=True)\n",
    "\n",
    "# Save expression value table\n",
    "values.to_csv('data/EXP.csv')\n",
    "\n",
    "# Save miRNA list and frequency\n",
    "pd.DataFrame(values.count(axis=0), columns=['samples']).to_csv('data/miRNA.csv')"
   ]
  },
  {
   "cell_type": "markdown",
   "metadata": {},
   "source": [
    "# Issues\n",
    "\n",
    "- Dataset integration not recommended.\n",
    "\n",
    "- Previous experiments:\n",
    "\n",
    "    - _Disease_ attribute extracted from _Dataset_ table. But datasets also contain healthy samples.\n",
    "\n",
    "    - If expression values of multiple datasets are not comparable, generated results are biased: value-range => disease.\n",
    "        \n",
    "- Standardize _disease_ column.\n",
    "\n",
    "- Select relevant and frequent miRNA:\n",
    "\n",
    "    - Suffixes: *, _vX.0, +a703\n",
    "\n",
    "    - Strange identifier: miRplus\n",
    "    \n",
    "    - Multiple: .../.../..., ...+...+..., ...,...,...\n",
    "\n",
    "- Define graph structure."
   ]
  }
 ],
 "metadata": {
  "kernelspec": {
   "display_name": "venv",
   "language": "python",
   "name": "python3"
  },
  "language_info": {
   "codemirror_mode": {
    "name": "ipython",
    "version": 3
   },
   "file_extension": ".py",
   "mimetype": "text/x-python",
   "name": "python",
   "nbconvert_exporter": "python",
   "pygments_lexer": "ipython3",
   "version": "3.9.6"
  },
  "orig_nbformat": 4
 },
 "nbformat": 4,
 "nbformat_minor": 2
}
