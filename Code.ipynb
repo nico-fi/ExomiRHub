{
 "cells": [
  {
   "cell_type": "markdown",
   "metadata": {},
   "source": [
    "# Objectives\n",
    "\n",
    "- Identify disease biomarkers.\n",
    "\n",
    "- Learn an inductive model."
   ]
  },
  {
   "cell_type": "markdown",
   "metadata": {},
   "source": [
    "# Issues\n",
    "\n",
    "- Dataset integration not recommended.\n",
    "\n",
    "- Standardize columns.\n",
    "\n",
    "- Select relevant miRNA.\n",
    "\n",
    "- Define graph structure."
   ]
  },
  {
   "cell_type": "markdown",
   "metadata": {},
   "source": [
    "# Data Preprocessing"
   ]
  },
  {
   "cell_type": "markdown",
   "metadata": {},
   "source": [
    "### OpenRefine\n",
    "\n",
    "- Delete rows:\n",
    "\n",
    "   - channel_count = 2 (189)\n",
    "\n",
    "   - organism <> Homo sapiens (22)\n",
    "\n",
    "   - type = SRA (1473)\n",
    "\n",
    "- Split and transpose _key:value_ columns."
   ]
  },
  {
   "cell_type": "code",
   "execution_count": 63,
   "metadata": {},
   "outputs": [],
   "source": [
    "import pandas as pd\n",
    "\n",
    "\n",
    "def keep_first_occurrence(row):\n",
    "    seen = set()\n",
    "    new_row = []\n",
    "    for value in row:\n",
    "        if value not in seen:\n",
    "            seen.add(value)\n",
    "            new_row.append(value)\n",
    "        else:\n",
    "            new_row.append(None)\n",
    "    return pd.Series(new_row, index=row.index)\n",
    "\n",
    "\n",
    "dataframe = pd.read_csv('data/PD.csv', dtype=str)\n",
    "\n",
    "# Keep only the first occurrence of a value in each row\n",
    "dataframe = dataframe.apply(keep_first_occurrence, axis=1)\n",
    "\n",
    "# Remove columns with same value in all rows\n",
    "dataframe.drop(dataframe.columns[dataframe.apply(pd.Series.nunique) == 1], axis=1, inplace=True)\n",
    "\n",
    "# Remove empty columns\n",
    "dataframe.dropna(axis=1, how='all', inplace=True)\n",
    "\n",
    "dataframe.to_csv('data/PD.csv', index=False)"
   ]
  },
  {
   "cell_type": "markdown",
   "metadata": {},
   "source": [
    "### OpenRefine\n",
    "\n",
    "- Delete irrelevant or redundant columns.\n",
    "\n",
    "- Merge equivalent columns.\n",
    "\n",
    "- Rename columns in a meaningful way.\n",
    "\n",
    "- Uniform age and sex values.\n",
    "\n",
    "- Remove almost-empty columns (≲1%)."
   ]
  }
 ],
 "metadata": {
  "kernelspec": {
   "display_name": "venv",
   "language": "python",
   "name": "python3"
  },
  "language_info": {
   "codemirror_mode": {
    "name": "ipython",
    "version": 3
   },
   "file_extension": ".py",
   "mimetype": "text/x-python",
   "name": "python",
   "nbconvert_exporter": "python",
   "pygments_lexer": "ipython3",
   "version": "3.9.6"
  },
  "orig_nbformat": 4
 },
 "nbformat": 4,
 "nbformat_minor": 2
}
